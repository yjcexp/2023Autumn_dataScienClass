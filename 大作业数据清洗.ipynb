{
 "cells": [
  {
   "cell_type": "markdown",
   "metadata": {},
   "source": [
    "数据清洗："
   ]
  },
  {
   "cell_type": "markdown",
   "metadata": {},
   "source": [
    "步骤一：检查爬取的数据每一列是否存在缺失值，若有进行则说明此条数据可靠性较低或为爬取数据错误，进行删除处理，\n",
    "\n",
    "处理列为，用户昵称\t微博正文  转发数\t评论数\t点赞数\t发布时间\t发布工具。\n",
    "\n",
    "处理过程中，显示每一列缺失值的数量，显示删除缺失值后的数据信息"
   ]
  },
  {
   "cell_type": "code",
   "execution_count": 4,
   "metadata": {},
   "outputs": [
    {
     "name": "stdout",
     "output_type": "stream",
     "text": [
      "缺失值数量：\n",
      "用户昵称     27\n",
      "微博正文      0\n",
      "转发数       0\n",
      "评论数       0\n",
      "点赞数       0\n",
      "发布时间      0\n",
      "发布工具    751\n",
      "dtype: int64\n",
      "\n",
      "删除缺失值后的数据信息：\n",
      "<class 'pandas.core.frame.DataFrame'>\n",
      "Int64Index: 9879 entries, 0 to 10655\n",
      "Data columns (total 18 columns):\n",
      " #   Column      Non-Null Count  Dtype         \n",
      "---  ------      --------------  -----         \n",
      " 0   id          9879 non-null   int64         \n",
      " 1   bid         9879 non-null   object        \n",
      " 2   user_id     9879 non-null   int64         \n",
      " 3   用户昵称        9879 non-null   object        \n",
      " 4   微博正文        9879 non-null   object        \n",
      " 5   头条文章url     10 non-null     object        \n",
      " 6   发布位置        636 non-null    object        \n",
      " 7   艾特用户        1480 non-null   object        \n",
      " 8   话题          7730 non-null   object        \n",
      " 9   转发数         9879 non-null   int64         \n",
      " 10  评论数         9879 non-null   int64         \n",
      " 11  点赞数         9879 non-null   int64         \n",
      " 12  发布时间        9879 non-null   datetime64[ns]\n",
      " 13  发布工具        9879 non-null   object        \n",
      " 14  微博图片url     4046 non-null   object        \n",
      " 15  微博视频url     2284 non-null   object        \n",
      " 16  retweet_id  0 non-null      float64       \n",
      " 17  ip          5967 non-null   object        \n",
      "dtypes: datetime64[ns](1), float64(1), int64(5), object(11)\n",
      "memory usage: 1.4+ MB\n",
      "None\n"
     ]
    }
   ],
   "source": [
    "import pandas as pd\n",
    "\n",
    "# 读取原始数据文件\n",
    "file_path = '原始数据.xlsx'  \n",
    "df = pd.read_excel(file_path)\n",
    "\n",
    "# 检查每一列是否存在缺失值\n",
    "columns_to_check = ['用户昵称', '微博正文', '转发数', '评论数', '点赞数', '发布时间', '发布工具']\n",
    "\n",
    "# 显示每一列缺失值的数量\n",
    "print(\"缺失值数量：\")\n",
    "print(df[columns_to_check].isnull().sum())\n",
    "\n",
    "# 删除包含缺失值的行\n",
    "df_cleaned = df.dropna(subset=columns_to_check)\n",
    "\n",
    "# 显示删除缺失值后的数据信息\n",
    "print(\"\\n删除缺失值后的数据信息：\")\n",
    "print(df_cleaned.info())\n",
    "\n",
    "# 保存清洗后的数据到新文件\n",
    "output_file_path = '原始数据1.xlsx'  \n",
    "df_cleaned.to_excel(output_file_path, index=False)"
   ]
  },
  {
   "cell_type": "markdown",
   "metadata": {},
   "source": [
    "步骤二：进行重复值处理，因为在爬取的时候可能会爬取两条相同的数据，需要删除处理。\n",
    "检查时间列，若有进行删除处理，同时删除前判断其他列是否相同，如果相同再进行删除操作否则不进行操作。\n"
   ]
  },
  {
   "cell_type": "code",
   "execution_count": 6,
   "metadata": {},
   "outputs": [
    {
     "name": "stdout",
     "output_type": "stream",
     "text": [
      "\n",
      "删除重复值后的数据信息：\n",
      "<class 'pandas.core.frame.DataFrame'>\n",
      "Int64Index: 9879 entries, 0 to 9878\n",
      "Data columns (total 18 columns):\n",
      " #   Column      Non-Null Count  Dtype         \n",
      "---  ------      --------------  -----         \n",
      " 0   id          9879 non-null   int64         \n",
      " 1   bid         9879 non-null   object        \n",
      " 2   user_id     9879 non-null   int64         \n",
      " 3   用户昵称        9879 non-null   object        \n",
      " 4   微博正文        9879 non-null   object        \n",
      " 5   头条文章url     10 non-null     object        \n",
      " 6   发布位置        636 non-null    object        \n",
      " 7   艾特用户        1480 non-null   object        \n",
      " 8   话题          7730 non-null   object        \n",
      " 9   转发数         9879 non-null   int64         \n",
      " 10  评论数         9879 non-null   int64         \n",
      " 11  点赞数         9879 non-null   int64         \n",
      " 12  发布时间        9879 non-null   datetime64[ns]\n",
      " 13  发布工具        9879 non-null   object        \n",
      " 14  微博图片url     4046 non-null   object        \n",
      " 15  微博视频url     2284 non-null   object        \n",
      " 16  retweet_id  0 non-null      float64       \n",
      " 17  ip          5967 non-null   object        \n",
      "dtypes: datetime64[ns](1), float64(1), int64(5), object(11)\n",
      "memory usage: 1.4+ MB\n",
      "None\n"
     ]
    }
   ],
   "source": [
    "# 读取原始数据1文件\n",
    "file_path = '原始数据1.xlsx'  \n",
    "df = pd.read_excel(file_path)\n",
    "\n",
    "# 检查并删除发布时间列的重复值，同时判断其他列是否相同\n",
    "columns_to_check_duplicates = ['bid', 'user_id', '用户昵称', '微博正文', '发布时间']\n",
    "df_cleaned = df.drop_duplicates(subset=columns_to_check_duplicates)\n",
    "\n",
    "# 显示删除重复值后的数据信息\n",
    "print(\"\\n删除重复值后的数据信息：\")\n",
    "print(df_cleaned.info())\n",
    "\n",
    "# 保存处理后的数据到新文件\n",
    "output_file_path = '原始数据2.xlsx'  \n",
    "df_cleaned.to_excel(output_file_path, index=False)"
   ]
  },
  {
   "cell_type": "markdown",
   "metadata": {},
   "source": [
    "步骤三：数据类型转换：\n",
    "\n",
    "确保每一列的数据类型是正确的。比如，发布时间可能是字符串格式，将其转换为日期时间类型，以便后续时间分析。"
   ]
  },
  {
   "cell_type": "code",
   "execution_count": 7,
   "metadata": {},
   "outputs": [
    {
     "name": "stdout",
     "output_type": "stream",
     "text": [
      "\n",
      "转换后的数据信息：\n",
      "<class 'pandas.core.frame.DataFrame'>\n",
      "RangeIndex: 9879 entries, 0 to 9878\n",
      "Data columns (total 18 columns):\n",
      " #   Column      Non-Null Count  Dtype  \n",
      "---  ------      --------------  -----  \n",
      " 0   id          9879 non-null   int64  \n",
      " 1   bid         9879 non-null   object \n",
      " 2   user_id     9879 non-null   int64  \n",
      " 3   用户昵称        9879 non-null   object \n",
      " 4   微博正文        9879 non-null   object \n",
      " 5   头条文章url     10 non-null     object \n",
      " 6   发布位置        636 non-null    object \n",
      " 7   艾特用户        1480 non-null   object \n",
      " 8   话题          7730 non-null   object \n",
      " 9   转发数         9879 non-null   int64  \n",
      " 10  评论数         9879 non-null   int64  \n",
      " 11  点赞数         9879 non-null   int64  \n",
      " 12  发布时间        9879 non-null   object \n",
      " 13  发布工具        9879 non-null   object \n",
      " 14  微博图片url     4046 non-null   object \n",
      " 15  微博视频url     2284 non-null   object \n",
      " 16  retweet_id  0 non-null      float64\n",
      " 17  ip          5967 non-null   object \n",
      "dtypes: float64(1), int64(5), object(12)\n",
      "memory usage: 1.4+ MB\n",
      "None\n"
     ]
    }
   ],
   "source": [
    "# 读取原始数据2文件\n",
    "file_path = '原始数据2.xlsx'  \n",
    "df = pd.read_excel(file_path)\n",
    "\n",
    "# 转发数、评论数、点赞数列转换为数字类型\n",
    "numeric_columns = ['转发数', '评论数', '点赞数']\n",
    "df[numeric_columns] = df[numeric_columns].apply(pd.to_numeric, errors='coerce')\n",
    "\n",
    "# 发布时间列转换为字符串类型\n",
    "df['发布时间'] = df['发布时间'].astype(str)\n",
    "\n",
    "# 显示转换后的数据信息\n",
    "print(\"\\n转换后的数据信息：\")\n",
    "print(df.info())\n",
    "\n",
    "# 保存处理后的数据到新文件\n",
    "output_file_path = '原始数据3.xlsx'  \n",
    "df.to_excel(output_file_path, index=False)"
   ]
  },
  {
   "cell_type": "markdown",
   "metadata": {},
   "source": [
    "微博分类：选取关键词为：科普，安全知识，学习。"
   ]
  },
  {
   "cell_type": "code",
   "execution_count": 8,
   "metadata": {},
   "outputs": [
    {
     "name": "stdout",
     "output_type": "stream",
     "text": [
      "\n",
      "过滤后的数据信息：\n",
      "<class 'pandas.core.frame.DataFrame'>\n",
      "Int64Index: 9683 entries, 0 to 9878\n",
      "Data columns (total 18 columns):\n",
      " #   Column      Non-Null Count  Dtype  \n",
      "---  ------      --------------  -----  \n",
      " 0   id          9683 non-null   int64  \n",
      " 1   bid         9683 non-null   object \n",
      " 2   user_id     9683 non-null   int64  \n",
      " 3   用户昵称        9683 non-null   object \n",
      " 4   微博正文        9683 non-null   object \n",
      " 5   头条文章url     10 non-null     object \n",
      " 6   发布位置        634 non-null    object \n",
      " 7   艾特用户        1463 non-null   object \n",
      " 8   话题          7548 non-null   object \n",
      " 9   转发数         9683 non-null   int64  \n",
      " 10  评论数         9683 non-null   int64  \n",
      " 11  点赞数         9683 non-null   int64  \n",
      " 12  发布时间        9683 non-null   object \n",
      " 13  发布工具        9683 non-null   object \n",
      " 14  微博图片url     3910 non-null   object \n",
      " 15  微博视频url     2246 non-null   object \n",
      " 16  retweet_id  0 non-null      float64\n",
      " 17  ip          5848 non-null   object \n",
      "dtypes: float64(1), int64(5), object(12)\n",
      "memory usage: 1.4+ MB\n",
      "None\n"
     ]
    }
   ],
   "source": [
    "# 读取原始数据3文件\n",
    "file_path = '原始数据3.xlsx'  \n",
    "df = pd.read_excel(file_path)\n",
    "\n",
    "# 定义要过滤的关键词\n",
    "keywords_to_exclude = ['科普', '安全知识', '学习']\n",
    "\n",
    "# 使用关键词匹配过滤微博\n",
    "for keyword in keywords_to_exclude:\n",
    "    df = df[~df['微博正文'].str.contains(keyword, case=False)]\n",
    "\n",
    "# 显示过滤后的数据信息\n",
    "print(\"\\n过滤后的数据信息：\")\n",
    "print(df.info())\n",
    "\n",
    "# 保存处理后的数据到新文件\n",
    "output_file_path = '清洗与微博分类后数据.xlsx'  \n",
    "df.to_excel(output_file_path, index=False)"
   ]
  }
 ],
 "metadata": {
  "kernelspec": {
   "display_name": "base",
   "language": "python",
   "name": "python3"
  },
  "language_info": {
   "codemirror_mode": {
    "name": "ipython",
    "version": 3
   },
   "file_extension": ".py",
   "mimetype": "text/x-python",
   "name": "python",
   "nbconvert_exporter": "python",
   "pygments_lexer": "ipython3",
   "version": "3.10.9"
  }
 },
 "nbformat": 4,
 "nbformat_minor": 2
}
